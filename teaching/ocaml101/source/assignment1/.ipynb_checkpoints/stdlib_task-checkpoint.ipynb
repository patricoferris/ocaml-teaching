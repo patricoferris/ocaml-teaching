{
 "cells": [
  {
   "cell_type": "markdown",
   "metadata": {},
   "source": [
    "# Implement Standard Library Functions\n",
    "---\n",
    "This task focuses on building OCaml functions to mirror OCaml's standard library. Don't look at those ones! "
   ]
  },
  {
   "cell_type": "markdown",
   "metadata": {},
   "source": [
    "The first function to implement is `map` - this applies a supplied function `f` to every element of a given list. Make sure your solution can cope with big lists!"
   ]
  },
  {
   "cell_type": "code",
   "execution_count": 32,
   "metadata": {
    "nbgrader": {
     "grade": false,
     "grade_id": "map-function",
     "locked": false,
     "schema_version": 3,
     "solution": true,
     "task": false
    }
   },
   "outputs": [
    {
     "data": {
      "text/plain": [
       "val map : ('a -> 'b) -> 'a list -> 'b list = <fun>\n"
      ]
     },
     "execution_count": 32,
     "metadata": {},
     "output_type": "execute_result"
    }
   ],
   "source": [
    "(** [map f lst] should return a list of equal length with [f] applied to every element of [lst]*)\n",
    "let map f lst = \n",
    "    (* BEGIN SOLUTION *)\n",
    "    let rec aux acc = function  \n",
    "      | [] -> List.rev acc \n",
    "      | x::xs -> aux (f x :: acc) xs \n",
    "    in \n",
    "      aux [] lst \n",
    "    (* END SOLUTION *)"
   ]
  },
  {
   "cell_type": "code",
   "execution_count": 33,
   "metadata": {
    "nbgrader": {
     "grade": true,
     "grade_id": "map-function-check",
     "locked": true,
     "points": 5,
     "schema_version": 3,
     "solution": false,
     "task": false
    }
   },
   "outputs": [
    {
     "data": {
      "text/plain": [
       "- : unit = ()\n"
      ]
     },
     "execution_count": 33,
     "metadata": {},
     "output_type": "execute_result"
    }
   ],
   "source": [
    "assert ((map (fun x -> x + 1) [0; 1; 2; 3; 4]) = [1; 2; 3; 4; 5]);\n",
    "assert ((map string_of_int [0; 1; 2]) = [\"0\"; \"1\"; \"2\"]); \n",
    "(* BEGIN HIDDEN TESTS *)\n",
    "\n",
    "assert (let lst = List.init 1_000_000 (fun x -> x) in (map (fun x -> x) lst = lst)); \n",
    "(* END HIDDEN TESTS *)"
   ]
  },
  {
   "cell_type": "code",
   "execution_count": null,
   "metadata": {},
   "outputs": [],
   "source": []
  }
 ],
 "metadata": {
  "celltoolbar": "Create Assignment",
  "kernelspec": {
   "display_name": "OCaml 4.11.0",
   "language": "OCaml",
   "name": "ocaml-jupyter"
  },
  "language_info": {
   "codemirror_mode": "text/x-ocaml",
   "file_extension": ".ml",
   "mimetype": "text/x-ocaml",
   "name": "OCaml",
   "nbconverter_exporter": null,
   "pygments_lexer": "OCaml",
   "version": "4.11.0"
  }
 },
 "nbformat": 4,
 "nbformat_minor": 2
}
