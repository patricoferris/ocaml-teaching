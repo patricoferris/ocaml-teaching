{
 "cells": [
  {
   "cell_type": "markdown",
   "metadata": {},
   "source": [
    "Make sure to fill in the meta-information before you begin. You should replace `(* Your Solution Here *)` with your solutions and make sure the assrtions all pass. "
   ]
  },
  {
   "cell_type": "code",
   "execution_count": null,
   "metadata": {},
   "outputs": [],
   "source": [
    "let name = \"\"\n",
    "let suid = \"\""
   ]
  },
  {
   "cell_type": "markdown",
   "metadata": {},
   "source": [
    "# Implement Standard Library Functions\n",
    "---\n",
    "This task focuses on building OCaml functions to mirror OCaml's standard library. Don't look at those ones! "
   ]
  },
  {
   "cell_type": "markdown",
   "metadata": {},
   "source": [
    "The first function to implement is `map` - this applies a supplied function `f` to every element of a given list. Make sure your solution can cope with big lists!"
   ]
  },
  {
   "cell_type": "code",
   "execution_count": null,
   "metadata": {
    "deletable": false,
    "nbgrader": {
     "cell_type": "code",
     "checksum": "bac7d52ef2862b62dfc39138f5a5bf5b",
     "grade": false,
     "grade_id": "map-function",
     "locked": false,
     "schema_version": 3,
     "solution": true,
     "task": false
    }
   },
   "outputs": [],
   "source": [
    "(** [map f lst] should return a list of equal length with [f] applied to every element of [lst]*)\n",
    "let map f lst = \n",
    "    (* Your Solution Here *)\n",
    "     assert false"
   ]
  },
  {
   "cell_type": "code",
   "execution_count": null,
   "metadata": {
    "deletable": false,
    "editable": false,
    "nbgrader": {
     "cell_type": "code",
     "checksum": "b4b3e9be9c14685a8e415ee0f32d934a",
     "grade": true,
     "grade_id": "map-function-check",
     "locked": true,
     "points": 5,
     "schema_version": 3,
     "solution": false,
     "task": false
    }
   },
   "outputs": [],
   "source": [
    "assert ((map (fun x -> x + 1) [0; 1; 2; 3; 4]) = [1; 2; 3; 4; 5]);\n",
    "assert ((map string_of_int [0; 1; 2]) = [\"0\"; \"1\"; \"2\"]); "
   ]
  },
  {
   "cell_type": "code",
   "execution_count": null,
   "metadata": {},
   "outputs": [],
   "source": []
  }
 ],
 "metadata": {
  "kernelspec": {
   "display_name": "OCaml 4.11.0",
   "language": "OCaml",
   "name": "ocaml-jupyter"
  },
  "language_info": {
   "codemirror_mode": "text/x-ocaml",
   "file_extension": ".ml",
   "mimetype": "text/x-ocaml",
   "name": "OCaml",
   "nbconverter_exporter": null,
   "pygments_lexer": "OCaml",
   "version": "4.11.0"
  }
 },
 "nbformat": 4,
 "nbformat_minor": 2
}
